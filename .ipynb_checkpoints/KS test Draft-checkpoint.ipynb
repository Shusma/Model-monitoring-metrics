{
 "cells": [
  {
   "cell_type": "markdown",
   "metadata": {},
   "source": [
    "# Kolmogorov-Smirnov test\n",
    "\n",
    "During Model Validation this criterion shows to what extent the model separates the actual good borrowers from the actual bad borrowers.\n",
    "\n",
    "It is measured by looking at the cumulative distributions of actual bad borrowers and actual good borrowers with respect to the estimated probabilities of being good and bad by our model. \n",
    "\n",
    "**KS for this case is the maximum difference between the cumulative distribution functions of bad and good borrowers with respect to predicted probabilities.**\n",
    "\n",
    "$$ KS =  max \\Big\\{(\\text{Cumulative % Event}) - (\\text{Cumulative % Non-Event})\\Big\\}  $$\n",
    "\n",
    "where Event ($Y = 1$) = Default (ie. 'Bad' Borrowers) and Non-event ($Y = 0$) = Non-Default ('Good' Borrowers)\n",
    "### Method:\n",
    "- You need to have two variables before calculating KS. One is the binary dependent variable. Second is predicted probability score which is generated from statistical model.\n",
    "- Sort the variables by the predicted probability score.\n",
    "- Calculate the cumulative % of actual 'bad' and 'good' borrowers (default/non-default) then compute the difference between these two cumulative distributions.\n",
    "- KS is where the difference is maximum\n",
    "\n",
    "The greater this difference the better the model.\n",
    "\n",
    "Perfect model -> Maximum distance KS = 1, Predicting by chance -> Almost no distance KS = 0\n",
    "\n",
    "\n",
    "In order to perform Model Performance Monitoring, KS-test can be used to measure the predictive power of the scorecard on the Recent population and compares this performance to that of Development population.\n",
    "\n",
    "<p class='lead'> Code Example using the LoanEE2 Dataset: </p>"
   ]
  },
  {
   "cell_type": "code",
   "execution_count": 1,
   "metadata": {},
   "outputs": [],
   "source": [
    "import numpy as np\n",
    "import pandas as pd\n",
    "import matplotlib.pyplot as plt\n",
    "import seaborn as sns\n",
    "\n",
    "from sklearn.model_selection import train_test_split\n",
    "from sklearn.linear_model import LogisticRegression\n",
    "\n",
    "import warnings\n",
    "warnings.filterwarnings('ignore')"
   ]
  },
  {
   "cell_type": "code",
   "execution_count": 2,
   "metadata": {},
   "outputs": [],
   "source": [
    "data = pd.read_csv('data/ProtectedFeaturesLoanEE2.csv')"
   ]
  },
  {
   "cell_type": "markdown",
   "metadata": {},
   "source": [
    "#### Select favourable and unfavourable outcome"
   ]
  },
  {
   "cell_type": "code",
   "execution_count": 3,
   "metadata": {},
   "outputs": [],
   "source": [
    "target='Default'"
   ]
  },
  {
   "cell_type": "markdown",
   "metadata": {},
   "source": [
    "#### Fill in missing values in the dataset"
   ]
  },
  {
   "cell_type": "code",
   "execution_count": 4,
   "metadata": {},
   "outputs": [],
   "source": [
    "data['MonthlyPayment'].fillna((data['MonthlyPayment'].mean()), inplace=True)\n",
    "data['ExpectedLoss'].fillna((data['ExpectedLoss'].mean()), inplace=True)\n",
    "data['ProbabilityOfDefault'].fillna((data['ProbabilityOfDefault'].mean()), inplace=True)\n",
    "data['DebtToIncome'].fillna((data['DebtToIncome'].mean()), inplace=True)\n",
    "data['FreeCash'].fillna((data['FreeCash'].mean()), inplace=True)\n",
    "data['LossGivenDefault'].fillna(0, inplace=True)"
   ]
  },
  {
   "cell_type": "code",
   "execution_count": 5,
   "metadata": {},
   "outputs": [],
   "source": [
    "x=data.drop(columns=['Young','Unnamed: 0', 'Unnamed: 0.1', 'Default'])\n",
    "y=data['Default']"
   ]
  },
  {
   "cell_type": "code",
   "execution_count": 6,
   "metadata": {},
   "outputs": [],
   "source": [
    "X_train, X_test, y_train, y_test = train_test_split(x, y, test_size=0.30, random_state=6666)"
   ]
  },
  {
   "cell_type": "code",
   "execution_count": 7,
   "metadata": {},
   "outputs": [],
   "source": [
    "logistic_reg = LogisticRegression(random_state=0, solver='lbfgs').fit(X_train, y_train)"
   ]
  },
  {
   "cell_type": "code",
   "execution_count": 8,
   "metadata": {},
   "outputs": [],
   "source": [
    "y_pred = logistic_reg.predict(X_test)\n",
    "y_pred_prob = logistic_reg.predict_proba(X_test)[:,0]"
   ]
  },
  {
   "cell_type": "code",
   "execution_count": 9,
   "metadata": {},
   "outputs": [
    {
     "name": "stdout",
     "output_type": "stream",
     "text": [
      "Accuracy of the model: 0.7589824427895853\n"
     ]
    }
   ],
   "source": [
    "print(\"Accuracy of the model:\", logistic_reg.score(X_test, y_test))"
   ]
  },
  {
   "cell_type": "markdown",
   "metadata": {},
   "source": [
    "## P-values with Logistic Regression\n",
    "\n",
    "### Significance/Hypothesis Testing \n",
    "\n",
    "#### Null Hyposthesis Significance Testing (NHST)\n",
    "A statistical hypothesis is an assumption about a population which may or may not be true. Hypothesis testing is a set of formal procedures used by statisticians to either accept or reject statistical hypotheses. Statistical hypotheses are of two types: \n",
    "\n",
    "eg: if we have a hypothesis that people with gene X - eat a different amount of calories..\n",
    "\n",
    "- **Null Hypothesis (H_0)**: says that this gene has no difference or effect \n",
    "\n",
    "- **Alternate Hypothesis (H_a)**: agrees with our original hypothesis\n",
    "\n",
    "P-value: probability value \n",
    "\n",
    "In a nut-shell p-values indicate how \"rare\" your data is by telling you the probability of getting data that's as extreme as the data you observed if the null hypothesis were true. Typically p-values depict the two-sided tails of a distribution. This allows us to reject our null hypothesis if our value is signifacntly higher or lower than the mean. \n",
    "\n",
    "*ONE COMMON MISCONCEPTION of a p-value is that it can tell you the probability that the null hypothesis is true* **IT CAN'T!!**\n",
    "\n",
    "**Conventionally if a p-value is lower than 0.05 five we conclude that the coefficient of that variable is *statistically significant.***\n",
    "\n",
    "Computing [p-values](http://rspeare.blogspot.com/2017/10/p-values-for-logistic-regression.html) for each and every coefficient fit by a sklearn logistic regression model - boils down to computing the Log-likelihood $\\mathcal{L}$, the Fisher Information Matrix $F$ and the Cramer-Rao bound. \n",
    "\n",
    "$$ \\frac{-\\partial^2\\mathcal{L}}{\\partial\\beta_i\\partial\\beta_j} = F_{ij} $$\n",
    "$$ Var[\\beta_i] \\geq F_{ii}^{-1} $$\n",
    "\n",
    "Which for logistic regression, gives us:\n",
    "\n",
    "$$ P(y|x) = \\frac{1}{1 + e^{-\\beta.x}} $$\n",
    "\n",
    "$$ \\mathcal{L} = \\sum^{N}_{n=1} y_n log(P(y_n|x_n)) + (1-y_n)log(1-P(y_n|x_n))$$\n",
    "\n",
    "$$ F_{ij} = \\sum^N_{n=1} \\frac{x_{ni}x_{nj}}{2 + 2 cosh(\\beta.x)} $$ (*no idea how to prove $F_{ij}$*)\n",
    "\n",
    "```decision_function(X)``` refers to $\\beta.x$\n",
    "\n",
    "> ```sklearn``` Predict confidence scores for samples.\n",
    "The confidence score for a sample is the signed distance of that sample to the hyperplane.\n",
    "\n",
    "\n",
    "Normally one assumes each $\\beta$ coefficient is normally distributed, with mean $\\hat{\\beta}$ -- the maximum likelihood estimate, which in the case of logistic regression is wherever you stop numerically since there is no analytical solution.\n",
    "\n",
    "Variance: $ \\sigma_{\\beta_i} \\approx F_{ii}^{-1}$\n",
    "\n",
    "Coefficient: $ \\beta \\sim \\mathcal{N}(\\hat{\\beta_i}, F_{ii}^{-1})$ "
   ]
  },
  {
   "cell_type": "code",
   "execution_count": 10,
   "metadata": {},
   "outputs": [],
   "source": [
    "# P values for sklearn logistic regression.\n",
    "# Class to display p-values for logistic regression in sklearn.\n",
    "\n",
    "from sklearn import linear_model\n",
    "import scipy.stats as stat\n",
    "\n",
    "class LogisticRegression_with_p_values:\n",
    "    \n",
    "    def __init__(self,*args,**kwargs):\n",
    "        self.model = linear_model.LogisticRegression(*args,**kwargs)#,**args)\n",
    "\n",
    "    def fit(self,X,y):\n",
    "        self.model.fit(X,y)\n",
    "        \n",
    "        #### Get p-values for the fitted model ####\n",
    "        denom = (2.0 * (1.0 + np.cosh(self.model.decision_function(X))))\n",
    "        denom = np.tile(denom,(X.shape[1],1)).T\n",
    "        F_ij = np.dot((X / denom).T,X) ## Fisher Information Matrix\n",
    "        noisy_F_ij = F_ij+0.00001*np.random.rand(F_ij.shape[0],F_ij.shape[1])\n",
    "        Cramer_Rao = np.linalg.inv(noisy_F_ij) ## Inverse Information Matrix\n",
    "        sigma_estimates = np.sqrt(np.diagonal(Cramer_Rao))\n",
    "        z_scores = self.model.coef_[0] / sigma_estimates # z-score for each model coefficient\n",
    "        p_values = [stat.norm.sf(abs(x)) * 2 for x in z_scores] ### two tailed test for p-values\n",
    "        \n",
    "        self.coef_ = self.model.coef_\n",
    "        self.intercept_ = self.model.intercept_\n",
    "        self.p_values = p_values"
   ]
  },
  {
   "cell_type": "code",
   "execution_count": 11,
   "metadata": {},
   "outputs": [],
   "source": [
    "logistic_reg_p = LogisticRegression_with_p_values()"
   ]
  },
  {
   "cell_type": "code",
   "execution_count": 12,
   "metadata": {},
   "outputs": [],
   "source": [
    "logistic_reg_p.fit(X_train, y_train)"
   ]
  },
  {
   "cell_type": "code",
   "execution_count": 13,
   "metadata": {},
   "outputs": [],
   "source": [
    "feature_name = X_train.columns.values\n",
    "summary_table_p = pd.DataFrame(columns = ['Feature name'], data = feature_name)\n",
    "summary_table_p['Coefficients'] = np.transpose(logistic_reg_p.coef_)\n",
    "summary_table_p.index = summary_table_p.index + 1\n",
    "summary_table_p.loc[0] = ['Intercept', logistic_reg_p.intercept_[0]]\n",
    "summary_table_p = summary_table_p.sort_index()"
   ]
  },
  {
   "cell_type": "code",
   "execution_count": 14,
   "metadata": {},
   "outputs": [],
   "source": [
    "p_values = logistic_reg_p.p_values\n",
    "p_values = np.append(np.nan, np.array(p_values))\n",
    "summary_table_p['p_values'] = p_values\n",
    "summary_table_p['p_values'] = summary_table_p['p_values'].round(decimals=5)"
   ]
  },
  {
   "cell_type": "markdown",
   "metadata": {},
   "source": [
    "#### Statistically significant features\n",
    "Now we can select independent variables based on them by only retaining the variables with coefficients that are statistically significant.\n",
    "\n",
    "It's good to remember that each original independent variable is represented by several dummy variables. If two or more of the dummy variables representing one original independent variable are statistically significant it would be best to retain all dummy variables that represent that original independent variable in the final model.\n",
    "\n",
    "**Conventionally if a p-value is lower than 0.05 five we conclude that the coefficient of that variable is *statistically significant.***"
   ]
  },
  {
   "cell_type": "code",
   "execution_count": 15,
   "metadata": {},
   "outputs": [
    {
     "data": {
      "text/html": [
       "<div>\n",
       "<style scoped>\n",
       "    .dataframe tbody tr th:only-of-type {\n",
       "        vertical-align: middle;\n",
       "    }\n",
       "\n",
       "    .dataframe tbody tr th {\n",
       "        vertical-align: top;\n",
       "    }\n",
       "\n",
       "    .dataframe thead th {\n",
       "        text-align: right;\n",
       "    }\n",
       "</style>\n",
       "<table border=\"1\" class=\"dataframe\">\n",
       "  <thead>\n",
       "    <tr style=\"text-align: right;\">\n",
       "      <th></th>\n",
       "      <th>Feature name</th>\n",
       "      <th>Coefficients</th>\n",
       "      <th>p_values</th>\n",
       "    </tr>\n",
       "  </thead>\n",
       "  <tbody>\n",
       "    <tr>\n",
       "      <th>2</th>\n",
       "      <td>AppliedAmount</td>\n",
       "      <td>0.000229</td>\n",
       "      <td>0.00000</td>\n",
       "    </tr>\n",
       "    <tr>\n",
       "      <th>6</th>\n",
       "      <td>FreeCash</td>\n",
       "      <td>-0.000234</td>\n",
       "      <td>0.00025</td>\n",
       "    </tr>\n",
       "    <tr>\n",
       "      <th>7</th>\n",
       "      <td>IncomeFromChildSupport</td>\n",
       "      <td>0.001838</td>\n",
       "      <td>0.00000</td>\n",
       "    </tr>\n",
       "    <tr>\n",
       "      <th>8</th>\n",
       "      <td>IncomeFromFamilyAllowance</td>\n",
       "      <td>0.001853</td>\n",
       "      <td>0.00000</td>\n",
       "    </tr>\n",
       "    <tr>\n",
       "      <th>9</th>\n",
       "      <td>IncomeFromLeavePay</td>\n",
       "      <td>0.001297</td>\n",
       "      <td>0.00000</td>\n",
       "    </tr>\n",
       "    <tr>\n",
       "      <th>10</th>\n",
       "      <td>IncomeFromPension</td>\n",
       "      <td>0.000495</td>\n",
       "      <td>0.03505</td>\n",
       "    </tr>\n",
       "    <tr>\n",
       "      <th>11</th>\n",
       "      <td>IncomeFromPrincipalEmployer</td>\n",
       "      <td>0.000884</td>\n",
       "      <td>0.00000</td>\n",
       "    </tr>\n",
       "    <tr>\n",
       "      <th>12</th>\n",
       "      <td>IncomeFromSocialWelfare</td>\n",
       "      <td>0.002019</td>\n",
       "      <td>0.00090</td>\n",
       "    </tr>\n",
       "    <tr>\n",
       "      <th>13</th>\n",
       "      <td>IncomeOther</td>\n",
       "      <td>0.000887</td>\n",
       "      <td>0.00000</td>\n",
       "    </tr>\n",
       "    <tr>\n",
       "      <th>14</th>\n",
       "      <td>IncomeTotal</td>\n",
       "      <td>-0.000888</td>\n",
       "      <td>0.00000</td>\n",
       "    </tr>\n",
       "    <tr>\n",
       "      <th>16</th>\n",
       "      <td>LoanDuration</td>\n",
       "      <td>-0.011831</td>\n",
       "      <td>0.00000</td>\n",
       "    </tr>\n",
       "    <tr>\n",
       "      <th>18</th>\n",
       "      <td>MonthlyPayment</td>\n",
       "      <td>-0.004624</td>\n",
       "      <td>0.00000</td>\n",
       "    </tr>\n",
       "  </tbody>\n",
       "</table>\n",
       "</div>"
      ],
      "text/plain": [
       "                   Feature name  Coefficients  p_values\n",
       "2                 AppliedAmount      0.000229   0.00000\n",
       "6                      FreeCash     -0.000234   0.00025\n",
       "7        IncomeFromChildSupport      0.001838   0.00000\n",
       "8     IncomeFromFamilyAllowance      0.001853   0.00000\n",
       "9            IncomeFromLeavePay      0.001297   0.00000\n",
       "10            IncomeFromPension      0.000495   0.03505\n",
       "11  IncomeFromPrincipalEmployer      0.000884   0.00000\n",
       "12      IncomeFromSocialWelfare      0.002019   0.00090\n",
       "13                  IncomeOther      0.000887   0.00000\n",
       "14                  IncomeTotal     -0.000888   0.00000\n",
       "16                 LoanDuration     -0.011831   0.00000\n",
       "18               MonthlyPayment     -0.004624   0.00000"
      ]
     },
     "execution_count": 15,
     "metadata": {},
     "output_type": "execute_result"
    }
   ],
   "source": [
    "summary_table_p[summary_table_p['p_values'] < 0.05]"
   ]
  },
  {
   "cell_type": "code",
   "execution_count": 16,
   "metadata": {},
   "outputs": [
    {
     "name": "stdout",
     "output_type": "stream",
     "text": [
      "Accuracy of the model: 0.7589824427895853\n"
     ]
    }
   ],
   "source": [
    "print(\"Accuracy of the model:\", logistic_reg_p.model.score(X_test, y_test)) #should be the same as previous logistic regression"
   ]
  },
  {
   "cell_type": "code",
   "execution_count": 17,
   "metadata": {},
   "outputs": [],
   "source": [
    "df_actual_predicted_probs = pd.DataFrame({'y_test':y_test, 'y_hat_test_proba':y_pred_prob})"
   ]
  },
  {
   "cell_type": "code",
   "execution_count": 18,
   "metadata": {},
   "outputs": [],
   "source": [
    "tr = 0.5 \n",
    "df_actual_predicted_probs['y_hat_test'] = np.where(df_actual_predicted_probs['y_hat_test_proba'] > tr, 1, 0)"
   ]
  },
  {
   "cell_type": "code",
   "execution_count": 19,
   "metadata": {},
   "outputs": [],
   "source": [
    "df_actual_predicted_probs = df_actual_predicted_probs.sort_values('y_hat_test_proba')"
   ]
  },
  {
   "cell_type": "code",
   "execution_count": 20,
   "metadata": {},
   "outputs": [],
   "source": [
    "df_actual_predicted_probs = df_actual_predicted_probs.reset_index()"
   ]
  },
  {
   "cell_type": "markdown",
   "metadata": {},
   "source": [
    "### Calculate cumulative number of all observations, of 'bad' and 'good' borrowers"
   ]
  },
  {
   "cell_type": "code",
   "execution_count": 21,
   "metadata": {},
   "outputs": [],
   "source": [
    "# We calculate the cumulative number of all observations.\n",
    "# We use the new index for that. Since indexing in python starts from 0, we add 1 to each index.\n",
    "df_actual_predicted_probs['Cumulative N Population'] = df_actual_predicted_probs.index + 1\n",
    "\n",
    "# We calculate cumulative number of 'bad', which is the cumulative sum of the column with actual observations.\n",
    "df_actual_predicted_probs['Cumulative N Bad'] = df_actual_predicted_probs['y_test'].cumsum()\n",
    "\n",
    "# We calculate cumulative number of 'good', which is\n",
    "# the difference between the cumulative number of all observations and cumulative number of 'good' for each row.\n",
    "df_actual_predicted_probs['Cumulative N Good'] = df_actual_predicted_probs['Cumulative N Population'] - df_actual_predicted_probs['y_test'].cumsum()"
   ]
  },
  {
   "cell_type": "code",
   "execution_count": 22,
   "metadata": {},
   "outputs": [
    {
     "data": {
      "text/html": [
       "<div>\n",
       "<style scoped>\n",
       "    .dataframe tbody tr th:only-of-type {\n",
       "        vertical-align: middle;\n",
       "    }\n",
       "\n",
       "    .dataframe tbody tr th {\n",
       "        vertical-align: top;\n",
       "    }\n",
       "\n",
       "    .dataframe thead th {\n",
       "        text-align: right;\n",
       "    }\n",
       "</style>\n",
       "<table border=\"1\" class=\"dataframe\">\n",
       "  <thead>\n",
       "    <tr style=\"text-align: right;\">\n",
       "      <th></th>\n",
       "      <th>index</th>\n",
       "      <th>y_test</th>\n",
       "      <th>y_hat_test_proba</th>\n",
       "      <th>y_hat_test</th>\n",
       "      <th>Cumulative N Population</th>\n",
       "      <th>Cumulative N Bad</th>\n",
       "      <th>Cumulative N Good</th>\n",
       "    </tr>\n",
       "  </thead>\n",
       "  <tbody>\n",
       "    <tr>\n",
       "      <th>0</th>\n",
       "      <td>4740</td>\n",
       "      <td>0</td>\n",
       "      <td>0.111078</td>\n",
       "      <td>0</td>\n",
       "      <td>1</td>\n",
       "      <td>0</td>\n",
       "      <td>1</td>\n",
       "    </tr>\n",
       "    <tr>\n",
       "      <th>1</th>\n",
       "      <td>3712</td>\n",
       "      <td>0</td>\n",
       "      <td>0.159244</td>\n",
       "      <td>0</td>\n",
       "      <td>2</td>\n",
       "      <td>0</td>\n",
       "      <td>2</td>\n",
       "    </tr>\n",
       "    <tr>\n",
       "      <th>2</th>\n",
       "      <td>3617</td>\n",
       "      <td>0</td>\n",
       "      <td>0.162393</td>\n",
       "      <td>0</td>\n",
       "      <td>3</td>\n",
       "      <td>0</td>\n",
       "      <td>3</td>\n",
       "    </tr>\n",
       "    <tr>\n",
       "      <th>3</th>\n",
       "      <td>6821</td>\n",
       "      <td>0</td>\n",
       "      <td>0.181421</td>\n",
       "      <td>0</td>\n",
       "      <td>4</td>\n",
       "      <td>0</td>\n",
       "      <td>4</td>\n",
       "    </tr>\n",
       "    <tr>\n",
       "      <th>4</th>\n",
       "      <td>6649</td>\n",
       "      <td>1</td>\n",
       "      <td>0.182868</td>\n",
       "      <td>0</td>\n",
       "      <td>5</td>\n",
       "      <td>1</td>\n",
       "      <td>4</td>\n",
       "    </tr>\n",
       "  </tbody>\n",
       "</table>\n",
       "</div>"
      ],
      "text/plain": [
       "   index  y_test  y_hat_test_proba  y_hat_test  Cumulative N Population  \\\n",
       "0   4740       0          0.111078           0                        1   \n",
       "1   3712       0          0.159244           0                        2   \n",
       "2   3617       0          0.162393           0                        3   \n",
       "3   6821       0          0.181421           0                        4   \n",
       "4   6649       1          0.182868           0                        5   \n",
       "\n",
       "   Cumulative N Bad  Cumulative N Good  \n",
       "0                 0                  1  \n",
       "1                 0                  2  \n",
       "2                 0                  3  \n",
       "3                 0                  4  \n",
       "4                 1                  4  "
      ]
     },
     "execution_count": 22,
     "metadata": {},
     "output_type": "execute_result"
    }
   ],
   "source": [
    "df_actual_predicted_probs.head()"
   ]
  },
  {
   "cell_type": "markdown",
   "metadata": {},
   "source": [
    "### Calculate cumulative % of all observations, of 'bad' and 'good' borrowers"
   ]
  },
  {
   "cell_type": "code",
   "execution_count": 23,
   "metadata": {},
   "outputs": [],
   "source": [
    "# We calculate the cumulative percentage of all observations.\n",
    "df_actual_predicted_probs['Cumulative Perc Population'] = df_actual_predicted_probs['Cumulative N Population'] / (df_actual_predicted_probs.shape[0])\n",
    "\n",
    "# We calculate cumulative percentage of 'bad'.\n",
    "df_actual_predicted_probs['Cumulative Perc Bad'] = df_actual_predicted_probs['Cumulative N Bad'] / df_actual_predicted_probs['y_test'].sum()\n",
    "\n",
    "# We calculate the cumulative percentage of 'good'.\n",
    "df_actual_predicted_probs['Cumulative Perc Good'] = df_actual_predicted_probs['Cumulative N Good'] / (df_actual_predicted_probs.shape[0] - df_actual_predicted_probs['y_test'].sum())"
   ]
  },
  {
   "cell_type": "code",
   "execution_count": 24,
   "metadata": {},
   "outputs": [
    {
     "data": {
      "text/html": [
       "<div>\n",
       "<style scoped>\n",
       "    .dataframe tbody tr th:only-of-type {\n",
       "        vertical-align: middle;\n",
       "    }\n",
       "\n",
       "    .dataframe tbody tr th {\n",
       "        vertical-align: top;\n",
       "    }\n",
       "\n",
       "    .dataframe thead th {\n",
       "        text-align: right;\n",
       "    }\n",
       "</style>\n",
       "<table border=\"1\" class=\"dataframe\">\n",
       "  <thead>\n",
       "    <tr style=\"text-align: right;\">\n",
       "      <th></th>\n",
       "      <th>index</th>\n",
       "      <th>y_test</th>\n",
       "      <th>y_hat_test_proba</th>\n",
       "      <th>y_hat_test</th>\n",
       "      <th>Cumulative N Population</th>\n",
       "      <th>Cumulative N Bad</th>\n",
       "      <th>Cumulative N Good</th>\n",
       "      <th>Cumulative Perc Population</th>\n",
       "      <th>Cumulative Perc Bad</th>\n",
       "      <th>Cumulative Perc Good</th>\n",
       "    </tr>\n",
       "  </thead>\n",
       "  <tbody>\n",
       "    <tr>\n",
       "      <th>0</th>\n",
       "      <td>4740</td>\n",
       "      <td>0</td>\n",
       "      <td>0.111078</td>\n",
       "      <td>0</td>\n",
       "      <td>1</td>\n",
       "      <td>0</td>\n",
       "      <td>1</td>\n",
       "      <td>0.000054</td>\n",
       "      <td>0.000000</td>\n",
       "      <td>0.000071</td>\n",
       "    </tr>\n",
       "    <tr>\n",
       "      <th>1</th>\n",
       "      <td>3712</td>\n",
       "      <td>0</td>\n",
       "      <td>0.159244</td>\n",
       "      <td>0</td>\n",
       "      <td>2</td>\n",
       "      <td>0</td>\n",
       "      <td>2</td>\n",
       "      <td>0.000109</td>\n",
       "      <td>0.000000</td>\n",
       "      <td>0.000143</td>\n",
       "    </tr>\n",
       "    <tr>\n",
       "      <th>2</th>\n",
       "      <td>3617</td>\n",
       "      <td>0</td>\n",
       "      <td>0.162393</td>\n",
       "      <td>0</td>\n",
       "      <td>3</td>\n",
       "      <td>0</td>\n",
       "      <td>3</td>\n",
       "      <td>0.000163</td>\n",
       "      <td>0.000000</td>\n",
       "      <td>0.000214</td>\n",
       "    </tr>\n",
       "    <tr>\n",
       "      <th>3</th>\n",
       "      <td>6821</td>\n",
       "      <td>0</td>\n",
       "      <td>0.181421</td>\n",
       "      <td>0</td>\n",
       "      <td>4</td>\n",
       "      <td>0</td>\n",
       "      <td>4</td>\n",
       "      <td>0.000217</td>\n",
       "      <td>0.000000</td>\n",
       "      <td>0.000286</td>\n",
       "    </tr>\n",
       "    <tr>\n",
       "      <th>4</th>\n",
       "      <td>6649</td>\n",
       "      <td>1</td>\n",
       "      <td>0.182868</td>\n",
       "      <td>0</td>\n",
       "      <td>5</td>\n",
       "      <td>1</td>\n",
       "      <td>4</td>\n",
       "      <td>0.000272</td>\n",
       "      <td>0.000227</td>\n",
       "      <td>0.000286</td>\n",
       "    </tr>\n",
       "  </tbody>\n",
       "</table>\n",
       "</div>"
      ],
      "text/plain": [
       "   index  y_test  y_hat_test_proba  y_hat_test  Cumulative N Population  \\\n",
       "0   4740       0          0.111078           0                        1   \n",
       "1   3712       0          0.159244           0                        2   \n",
       "2   3617       0          0.162393           0                        3   \n",
       "3   6821       0          0.181421           0                        4   \n",
       "4   6649       1          0.182868           0                        5   \n",
       "\n",
       "   Cumulative N Bad  Cumulative N Good  Cumulative Perc Population  \\\n",
       "0                 0                  1                    0.000054   \n",
       "1                 0                  2                    0.000109   \n",
       "2                 0                  3                    0.000163   \n",
       "3                 0                  4                    0.000217   \n",
       "4                 1                  4                    0.000272   \n",
       "\n",
       "   Cumulative Perc Bad  Cumulative Perc Good  \n",
       "0             0.000000              0.000071  \n",
       "1             0.000000              0.000143  \n",
       "2             0.000000              0.000214  \n",
       "3             0.000000              0.000286  \n",
       "4             0.000227              0.000286  "
      ]
     },
     "execution_count": 24,
     "metadata": {},
     "output_type": "execute_result"
    }
   ],
   "source": [
    "df_actual_predicted_probs.head()"
   ]
  },
  {
   "cell_type": "markdown",
   "metadata": {},
   "source": [
    "## Calculate Kolmogorov-Smirnov coefficient (KS)\n",
    "\n",
    "**KS for this case is the maximum difference between the cumulative distribution functions of bad and good borrowers with respect to predicted probabilities.**\n",
    "\n",
    "The greater this difference the better the model.\n",
    "\n",
    "Perfect model -> Maximum distance KS = 1, Predicting by chance -> Almost no distance KS = 0"
   ]
  },
  {
   "cell_type": "code",
   "execution_count": 25,
   "metadata": {},
   "outputs": [],
   "source": [
    "df_actual_predicted_probs['Individual KS'] = abs(df_actual_predicted_probs['Cumulative Perc Bad'] - df_actual_predicted_probs['Cumulative Perc Good'])"
   ]
  },
  {
   "cell_type": "code",
   "execution_count": 26,
   "metadata": {},
   "outputs": [
    {
     "data": {
      "text/html": [
       "<div>\n",
       "<style scoped>\n",
       "    .dataframe tbody tr th:only-of-type {\n",
       "        vertical-align: middle;\n",
       "    }\n",
       "\n",
       "    .dataframe tbody tr th {\n",
       "        vertical-align: top;\n",
       "    }\n",
       "\n",
       "    .dataframe thead th {\n",
       "        text-align: right;\n",
       "    }\n",
       "</style>\n",
       "<table border=\"1\" class=\"dataframe\">\n",
       "  <thead>\n",
       "    <tr style=\"text-align: right;\">\n",
       "      <th></th>\n",
       "      <th>index</th>\n",
       "      <th>y_test</th>\n",
       "      <th>y_hat_test_proba</th>\n",
       "      <th>y_hat_test</th>\n",
       "      <th>Cumulative N Population</th>\n",
       "      <th>Cumulative N Bad</th>\n",
       "      <th>Cumulative N Good</th>\n",
       "      <th>Cumulative Perc Population</th>\n",
       "      <th>Cumulative Perc Bad</th>\n",
       "      <th>Cumulative Perc Good</th>\n",
       "      <th>Individual KS</th>\n",
       "    </tr>\n",
       "  </thead>\n",
       "  <tbody>\n",
       "    <tr>\n",
       "      <th>0</th>\n",
       "      <td>4740</td>\n",
       "      <td>0</td>\n",
       "      <td>0.111078</td>\n",
       "      <td>0</td>\n",
       "      <td>1</td>\n",
       "      <td>0</td>\n",
       "      <td>1</td>\n",
       "      <td>0.000054</td>\n",
       "      <td>0.000000</td>\n",
       "      <td>0.000071</td>\n",
       "      <td>0.000071</td>\n",
       "    </tr>\n",
       "    <tr>\n",
       "      <th>1</th>\n",
       "      <td>3712</td>\n",
       "      <td>0</td>\n",
       "      <td>0.159244</td>\n",
       "      <td>0</td>\n",
       "      <td>2</td>\n",
       "      <td>0</td>\n",
       "      <td>2</td>\n",
       "      <td>0.000109</td>\n",
       "      <td>0.000000</td>\n",
       "      <td>0.000143</td>\n",
       "      <td>0.000143</td>\n",
       "    </tr>\n",
       "    <tr>\n",
       "      <th>2</th>\n",
       "      <td>3617</td>\n",
       "      <td>0</td>\n",
       "      <td>0.162393</td>\n",
       "      <td>0</td>\n",
       "      <td>3</td>\n",
       "      <td>0</td>\n",
       "      <td>3</td>\n",
       "      <td>0.000163</td>\n",
       "      <td>0.000000</td>\n",
       "      <td>0.000214</td>\n",
       "      <td>0.000214</td>\n",
       "    </tr>\n",
       "    <tr>\n",
       "      <th>3</th>\n",
       "      <td>6821</td>\n",
       "      <td>0</td>\n",
       "      <td>0.181421</td>\n",
       "      <td>0</td>\n",
       "      <td>4</td>\n",
       "      <td>0</td>\n",
       "      <td>4</td>\n",
       "      <td>0.000217</td>\n",
       "      <td>0.000000</td>\n",
       "      <td>0.000286</td>\n",
       "      <td>0.000286</td>\n",
       "    </tr>\n",
       "    <tr>\n",
       "      <th>4</th>\n",
       "      <td>6649</td>\n",
       "      <td>1</td>\n",
       "      <td>0.182868</td>\n",
       "      <td>0</td>\n",
       "      <td>5</td>\n",
       "      <td>1</td>\n",
       "      <td>4</td>\n",
       "      <td>0.000272</td>\n",
       "      <td>0.000227</td>\n",
       "      <td>0.000286</td>\n",
       "      <td>0.000059</td>\n",
       "    </tr>\n",
       "  </tbody>\n",
       "</table>\n",
       "</div>"
      ],
      "text/plain": [
       "   index  y_test  y_hat_test_proba  y_hat_test  Cumulative N Population  \\\n",
       "0   4740       0          0.111078           0                        1   \n",
       "1   3712       0          0.159244           0                        2   \n",
       "2   3617       0          0.162393           0                        3   \n",
       "3   6821       0          0.181421           0                        4   \n",
       "4   6649       1          0.182868           0                        5   \n",
       "\n",
       "   Cumulative N Bad  Cumulative N Good  Cumulative Perc Population  \\\n",
       "0                 0                  1                    0.000054   \n",
       "1                 0                  2                    0.000109   \n",
       "2                 0                  3                    0.000163   \n",
       "3                 0                  4                    0.000217   \n",
       "4                 1                  4                    0.000272   \n",
       "\n",
       "   Cumulative Perc Bad  Cumulative Perc Good  Individual KS  \n",
       "0             0.000000              0.000071       0.000071  \n",
       "1             0.000000              0.000143       0.000143  \n",
       "2             0.000000              0.000214       0.000214  \n",
       "3             0.000000              0.000286       0.000286  \n",
       "4             0.000227              0.000286       0.000059  "
      ]
     },
     "execution_count": 26,
     "metadata": {},
     "output_type": "execute_result"
    }
   ],
   "source": [
    "df_actual_predicted_probs.head()"
   ]
  },
  {
   "cell_type": "code",
   "execution_count": 27,
   "metadata": {},
   "outputs": [
    {
     "data": {
      "text/plain": [
       "Text(0.5, 1.0, 'Kolmogorov-Smirnov')"
      ]
     },
     "execution_count": 27,
     "metadata": {},
     "output_type": "execute_result"
    },
    {
     "data": {
      "image/png": "[encoded data removed]",
      "text/plain": [
       "<Figure size 576x432 with 1 Axes>"
      ]
     },
     "metadata": {
      "needs_background": "light"
     },
     "output_type": "display_data"
    }
   ],
   "source": [
    "# Plot KS\n",
    "fig = plt.figure(figsize=(8,6))\n",
    "plt.plot(df_actual_predicted_probs['y_hat_test_proba'], df_actual_predicted_probs['Cumulative Perc Bad'], color = 'r', label='Cumulative % Bad')\n",
    "plt.plot(df_actual_predicted_probs['y_hat_test_proba'], df_actual_predicted_probs['Cumulative Perc Good'], color = 'g', label='Cumulative % Good')\n",
    "\n",
    "x = df_actual_predicted_probs['y_hat_test_proba']\n",
    "    \n",
    "y1 = df_actual_predicted_probs['Cumulative Perc Bad']\n",
    "y2 = df_actual_predicted_probs['Cumulative Perc Good']\n",
    "    \n",
    "ind_max = np.argmax((y1-y2)**2)\n",
    "\n",
    "# plt.axvline(x[ind_max], color=\"blue\", linestyle=\"dashed\", alpha=0.4)\n",
    "plt.plot([x[ind_max], x[ind_max]], [y2[ind_max], y1[ind_max]], color=\"blue\")\n",
    "\n",
    "plt.xlabel('Estimated Probability')\n",
    "plt.ylabel('Cumulative %')\n",
    "plt.legend()\n",
    "plt.title('Kolmogorov-Smirnov')"
   ]
  },
  {
   "cell_type": "markdown",
   "metadata": {},
   "source": [
    "We calculate KS from the data. It is the maximum of the difference between the cumulative percentage of 'bad'\n",
    "and the cumulative percentage of 'good'."
   ]
  },
  {
   "cell_type": "code",
   "execution_count": 28,
   "metadata": {},
   "outputs": [
    {
     "data": {
      "text/plain": [
       "0.24890443314778865"
      ]
     },
     "execution_count": 28,
     "metadata": {},
     "output_type": "execute_result"
    }
   ],
   "source": [
    "KS = max(df_actual_predicted_probs['Individual KS'])\n",
    "KS"
   ]
  },
  {
   "cell_type": "markdown",
   "metadata": {},
   "source": [
    "## KS test function"
   ]
  },
  {
   "cell_type": "code",
   "execution_count": 29,
   "metadata": {},
   "outputs": [],
   "source": [
    "def ks_test(y_actual, y_pred_prob, classifier_threshold):\n",
    "    df_actual_pred_probs = pd.DataFrame({'y_actual':y_actual, 'y_hat_test_proba':y_pred_prob})\n",
    "    df_actual_pred_probs['y_hat_test'] = np.where(df_actual_pred_probs['y_hat_test_proba'] > tr, 1, 0)\n",
    "    df_actual_pred_probs = df_actual_pred_probs.sort_values('y_hat_test_proba')\n",
    "    df_actual_pred_probs = df_actual_pred_probs.reset_index()\n",
    "    \n",
    "    df_actual_pred_probs['Cumulative N Population'] = df_actual_pred_probs.index + 1\n",
    "    df_actual_pred_probs['Cumulative N Bad'] = df_actual_pred_probs['y_actual'].cumsum()\n",
    "    df_actual_pred_probs['Cumulative N Good'] = df_actual_pred_probs['Cumulative N Population'] - df_actual_pred_probs['y_actual'].cumsum()\n",
    "\n",
    "    df_actual_pred_probs['Cumulative Perc Population'] = df_actual_pred_probs['Cumulative N Population'] / (df_actual_pred_probs.shape[0])\n",
    "    df_actual_pred_probs['Cumulative Perc Bad'] = df_actual_pred_probs['Cumulative N Bad'] / df_actual_pred_probs['y_actual'].sum()\n",
    "    df_actual_pred_probs['Cumulative Perc Good'] = df_actual_pred_probs['Cumulative N Good'] / (df_actual_pred_probs.shape[0] - df_actual_pred_probs['y_actual'].sum())\n",
    "\n",
    "    KS = max(df_actual_pred_probs['Cumulative Perc Bad'] - df_actual_pred_probs['Cumulative Perc Good'])\n",
    "    \n",
    "    return KS\n"
   ]
  },
  {
   "cell_type": "markdown",
   "metadata": {},
   "source": [
    "#### KS coefficient on the test data "
   ]
  },
  {
   "cell_type": "code",
   "execution_count": 30,
   "metadata": {},
   "outputs": [
    {
     "data": {
      "text/plain": [
       "0.24890443314778865"
      ]
     },
     "execution_count": 30,
     "metadata": {},
     "output_type": "execute_result"
    }
   ],
   "source": [
    "ks_test(y_test, y_pred_prob, 0.5)"
   ]
  },
  {
   "cell_type": "markdown",
   "metadata": {},
   "source": [
    "#### KS coefficient on the train data "
   ]
  },
  {
   "cell_type": "code",
   "execution_count": 31,
   "metadata": {},
   "outputs": [],
   "source": [
    "y_pred_prob_train = logistic_reg.predict_proba(X_train)[:,0]"
   ]
  },
  {
   "cell_type": "code",
   "execution_count": 32,
   "metadata": {},
   "outputs": [
    {
     "data": {
      "text/plain": [
       "0.2532086600268418"
      ]
     },
     "execution_count": 32,
     "metadata": {},
     "output_type": "execute_result"
    }
   ],
   "source": [
    "ks_test(y_train, y_pred_prob_train, 0.5)"
   ]
  },
  {
   "cell_type": "code",
   "execution_count": 33,
   "metadata": {},
   "outputs": [],
   "source": [
    "def ks(data=None,target=None, prob=None):\n",
    "    data['target0'] = 1 - data[target]\n",
    "    data['bucket'] = pd.qcut(data[prob], 10)\n",
    "    grouped = data.groupby('bucket', as_index = False)\n",
    "    kstable = pd.DataFrame()\n",
    "    kstable['min_prob'] = grouped.min()[prob]\n",
    "    kstable['max_prob'] = grouped.max()[prob]\n",
    "    kstable['events'] = grouped.sum()[target]\n",
    "    kstable['nonevents'] = grouped.sum()['target0']\n",
    "    kstable = kstable.sort_values(by=\"min_prob\", ascending=False).reset_index(drop = True)\n",
    "    kstable['event_rate'] = (kstable.events / data[target].sum()).apply('{0:.2%}'.format)\n",
    "    kstable['nonevent_rate'] = (kstable.nonevents / data['target0'].sum()).apply('{0:.2%}'.format)\n",
    "    kstable['cum_eventrate']=(kstable.events / data[target].sum()).cumsum()\n",
    "    kstable['cum_noneventrate']=(kstable.nonevents / data['target0'].sum()).cumsum()\n",
    "    kstable['KS'] = np.round(kstable['cum_eventrate']-kstable['cum_noneventrate'], 3) * 100\n",
    "\n",
    "     #Formating\n",
    "    kstable['cum_eventrate']= kstable['cum_eventrate'].apply('{0:.2%}'.format)\n",
    "    kstable['cum_noneventrate']= kstable['cum_noneventrate'].apply('{0:.2%}'.format)\n",
    "    kstable.index = range(1,11)\n",
    "    kstable.index.rename('Decile', inplace=True)\n",
    "    pd.set_option('display.max_columns', 9)\n",
    "    print(kstable)\n",
    "    #Display KS\n",
    "    from colorama import Fore\n",
    "    print(Fore.RED + \"KS is \" + str(max(kstable['KS']))+\"%\"+ \" at decile \" + str((kstable.index[kstable['KS']==max(kstable['KS'])][0])))\n",
    "    return(kstable)"
   ]
  },
  {
   "cell_type": "code",
   "execution_count": null,
   "metadata": {},
   "outputs": [],
   "source": []
  }
 ],
 "metadata": {
  "kernelspec": {
   "display_name": "Python 3",
   "language": "python",
   "name": "python3"
  },
  "language_info": {
   "codemirror_mode": {
    "name": "ipython",
    "version": 3
   },
   "file_extension": ".py",
   "mimetype": "text/x-python",
   "name": "python",
   "nbconvert_exporter": "python",
   "pygments_lexer": "ipython3",
   "version": "3.8.5"
  }
 },
 "nbformat": 4,
 "nbformat_minor": 4
}
